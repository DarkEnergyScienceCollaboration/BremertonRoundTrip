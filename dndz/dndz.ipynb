{
 "cells": [
  {
   "cell_type": "code",
   "execution_count": 1,
   "metadata": {
    "collapsed": false
   },
   "outputs": [
    {
     "name": "stdout",
     "output_type": "stream",
     "text": [
      "Populating the interactive namespace from numpy and matplotlib\n"
     ]
    }
   ],
   "source": [
    "%pylab inline"
   ]
  },
  {
   "cell_type": "code",
   "execution_count": 3,
   "metadata": {
    "collapsed": false
   },
   "outputs": [],
   "source": [
    "from astropy.table import Table"
   ]
  },
  {
   "cell_type": "code",
   "execution_count": 5,
   "metadata": {
    "collapsed": false
   },
   "outputs": [],
   "source": [
    "t = Table.read('test_fast.txt',format='ascii.no_header')"
   ]
  },
  {
   "cell_type": "code",
   "execution_count": 6,
   "metadata": {
    "collapsed": false
   },
   "outputs": [
    {
     "name": "stdout",
     "output_type": "stream",
     "text": [
      " col1  col2       col3      ...     col15         col16      col17\n",
      "------ ---- --------------- ... ------------- -------------- -----\n",
      "object    0 -0.441312430781 ... 3.59485147411  66.0256302553     1\n",
      "object    1  0.163061375121 ... 3.22190537798 -77.3643628369     1\n",
      "object    2 0.0445131355827 ... 3.05330277646 -47.3011741571     1\n",
      "object    3 -0.469520972442 ... 2.31922705026 -8.40056139858     1\n",
      "object    4   1.01632657632 ...   2.073384278  71.8243846797     1\n",
      "object    5   1.33232926634 ... 3.09566442318  5.90049090519     1\n",
      "object    6 -0.132335911189 ... 3.02720580505  12.4517651698     1\n",
      "object    7  -1.16823320302 ... 2.44002050574  62.6270835002     1\n",
      "object    8  0.256362049189 ... 2.73862354593 -54.7411151342     1\n",
      "object    9  0.892500707921 ... 2.52449317497 -24.8454176396     1\n",
      "   ...  ...             ... ...           ...            ...   ...\n",
      "object 9989  0.111101108301 ... 2.28231384418 -33.9569190697     1\n",
      "object 9990  -0.44141358341 ... 2.49076646108  65.3373151473     1\n",
      "object 9991  -0.52583232448 ... 2.64744914048  37.3565134673     1\n",
      "object 9992 -0.397062432176 ... 2.83292194194   36.882502511     1\n",
      "object 9993  -1.30465962799 ...  2.2713082256 -84.1829085035     1\n",
      "object 9994  0.546372344861 ... 2.44516079313  74.7473363084     1\n",
      "object 9995   0.77235819612 ... 4.83091725239 -63.2096877207     1\n",
      "object 9996  0.561529652229 ...   2.779570517  72.5202222692     1\n",
      "object 9997  0.766745656595 ... 2.67998149698 -60.4665460946     1\n",
      "object 9998   1.42019157544 ... 2.40923524125 -82.8745508295     1\n",
      "object 9999  0.567439177783 ... 2.53937200256  9.48644987749     1\n",
      "Length = 10000 rows\n"
     ]
    }
   ],
   "source": [
    "print t"
   ]
  },
  {
   "cell_type": "code",
   "execution_count": 7,
   "metadata": {
    "collapsed": false
   },
   "outputs": [
    {
     "data": {
      "text/plain": [
       "(array([   1.,    1.,    7.,    8.,   25.,   46.,   64.,  112.,  210.,\n",
       "         342.,  477.,  493.,  586.,  709.,  716.,  836.,  843.,  870.,\n",
       "         950.,  790.,  569.,  426.,  333.,  256.,  157.,   92.,   46.,\n",
       "          14.,   10.,   11.]),\n",
       " array([ 1.52164973,  1.52661665,  1.53158356,  1.53655048,  1.54151739,\n",
       "         1.54648431,  1.55145122,  1.55641814,  1.56138505,  1.56635197,\n",
       "         1.57131889,  1.5762858 ,  1.58125272,  1.58621963,  1.59118655,\n",
       "         1.59615346,  1.60112038,  1.60608729,  1.61105421,  1.61602112,\n",
       "         1.62098804,  1.62595495,  1.63092187,  1.63588879,  1.6408557 ,\n",
       "         1.64582262,  1.65078953,  1.65575645,  1.66072336,  1.66569028,\n",
       "         1.67065719]),\n",
       " <a list of 30 Patch objects>)"
      ]
     },
     "execution_count": 7,
     "metadata": {},
     "output_type": "execute_result"
    },
    {
     "data": {
      "image/png": "[encoded data removed]",
      "text/plain": [
       "<matplotlib.figure.Figure at 0x1073621d0>"
      ]
     },
     "metadata": {},
     "output_type": "display_data"
    }
   ],
   "source": [
    "plt.hist(t['col7'],bins=30)"
   ]
  },
  {
   "cell_type": "code",
   "execution_count": 9,
   "metadata": {
    "collapsed": false
   },
   "outputs": [],
   "source": [
    "nofz = np.histogram(t['col7'],bins=30)"
   ]
  },
  {
   "cell_type": "code",
   "execution_count": 10,
   "metadata": {
    "collapsed": false
   },
   "outputs": [
    {
     "name": "stdout",
     "output_type": "stream",
     "text": [
      "(array([  1,   1,   7,   8,  25,  46,  64, 112, 210, 342, 477, 493, 586,\n",
      "       709, 716, 836, 843, 870, 950, 790, 569, 426, 333, 256, 157,  92,\n",
      "        46,  14,  10,  11]), array([ 1.52164973,  1.52661665,  1.53158356,  1.53655048,  1.54151739,\n",
      "        1.54648431,  1.55145122,  1.55641814,  1.56138505,  1.56635197,\n",
      "        1.57131889,  1.5762858 ,  1.58125272,  1.58621963,  1.59118655,\n",
      "        1.59615346,  1.60112038,  1.60608729,  1.61105421,  1.61602112,\n",
      "        1.62098804,  1.62595495,  1.63092187,  1.63588879,  1.6408557 ,\n",
      "        1.64582262,  1.65078953,  1.65575645,  1.66072336,  1.66569028,\n",
      "        1.67065719]))\n"
     ]
    }
   ],
   "source": [
    "print nofz"
   ]
  },
  {
   "cell_type": "code",
   "execution_count": 21,
   "metadata": {
    "collapsed": false
   },
   "outputs": [],
   "source": [
    "x = nofz[0][0:30]"
   ]
  },
  {
   "cell_type": "code",
   "execution_count": 22,
   "metadata": {
    "collapsed": true
   },
   "outputs": [],
   "source": [
    "y = nofz[1][0:30]"
   ]
  },
  {
   "cell_type": "code",
   "execution_count": 27,
   "metadata": {
    "collapsed": false
   },
   "outputs": [
    {
     "name": "stdout",
     "output_type": "stream",
     "text": [
      "[  1   1   7   8  25  46  64 112 210 342 477 493 586 709 716 836 843 870\n",
      " 950 790 569 426 333 256 157  92  46  14  10  11] [ 1.52164973  1.52661665  1.53158356  1.53655048  1.54151739  1.54648431\n",
      "  1.55145122  1.55641814  1.56138505  1.56635197  1.57131889  1.5762858\n",
      "  1.58125272  1.58621963  1.59118655  1.59615346  1.60112038  1.60608729\n",
      "  1.61105421  1.61602112  1.62098804  1.62595495  1.63092187  1.63588879\n",
      "  1.6408557   1.64582262  1.65078953  1.65575645  1.66072336  1.66569028]\n"
     ]
    }
   ],
   "source": [
    "print x,y"
   ]
  },
  {
   "cell_type": "code",
   "execution_count": 28,
   "metadata": {
    "collapsed": false
   },
   "outputs": [],
   "source": [
    "np.savetxt('n_of_z.dat',(y,x))"
   ]
  },
  {
   "cell_type": "code",
   "execution_count": 25,
   "metadata": {
    "collapsed": false
   },
   "outputs": [
    {
     "name": "stdout",
     "output_type": "stream",
     "text": [
      "(30,) (30,)\n"
     ]
    }
   ],
   "source": [
    "print x.shape, y.shape"
   ]
  },
  {
   "cell_type": "code",
   "execution_count": 29,
   "metadata": {
    "collapsed": true
   },
   "outputs": [],
   "source": [
    "from astropy.io import ascii\n",
    "ascii.write([y, x], 'n_of_z.dat', names=['z', 'n(z)'])"
   ]
  },
  {
   "cell_type": "code",
   "execution_count": null,
   "metadata": {
    "collapsed": true
   },
   "outputs": [],
   "source": []
  }
 ],
 "metadata": {
  "kernelspec": {
   "display_name": "Python 2",
   "language": "python",
   "name": "python2"
  },
  "language_info": {
   "codemirror_mode": {
    "name": "ipython",
    "version": 2
   },
   "file_extension": ".py",
   "mimetype": "text/x-python",
   "name": "python",
   "nbconvert_exporter": "python",
   "pygments_lexer": "ipython2",
   "version": "2.7.10"
  }
 },
 "nbformat": 4,
 "nbformat_minor": 0
}
