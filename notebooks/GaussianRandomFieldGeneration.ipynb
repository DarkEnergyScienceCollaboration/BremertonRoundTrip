{
 "cells": [
  {
   "cell_type": "markdown",
   "metadata": {},
   "source": [
    "# Gaussian Random Field Generation in Python"
   ]
  },
  {
   "cell_type": "markdown",
   "metadata": {},
   "source": [
    "### Initialization"
   ]
  },
  {
   "cell_type": "code",
   "execution_count": 1,
   "metadata": {
    "collapsed": false
   },
   "outputs": [
    {
     "name": "stdout",
     "output_type": "stream",
     "text": [
      "Populating the interactive namespace from numpy and matplotlib\n"
     ]
    }
   ],
   "source": [
    "%pylab inline"
   ]
  },
  {
   "cell_type": "markdown",
   "metadata": {},
   "source": [
    "Import the [randomfield package](http://randomfield.readthedocs.org/en/stable/randomfield/index.html).\n",
    "\n",
    "Note that this import statement generates a warning originating in `astropy` (due to recent changes in ipython notebook), which should disapear when [this pull request](https://github.com/astropy/astropy/pull/4078) is merged."
   ]
  },
  {
   "cell_type": "code",
   "execution_count": null,
   "metadata": {
    "collapsed": false
   },
   "outputs": [
    {
     "name": "stdout",
     "output_type": "stream",
     "text": [
      "0.1\n"
     ]
    },
    {
     "name": "stderr",
     "output_type": "stream",
     "text": [
      "/Users/david/anaconda/lib/python2.7/site-packages/IPython/kernel/__init__.py:13: ShimWarning: The `IPython.kernel` package has been deprecated. You should import from ipykernel or jupyter_client instead.\n",
      "  \"You should import from ipykernel or jupyter_client instead.\", ShimWarning)\n"
     ]
    }
   ],
   "source": [
    "import randomfield\n",
    "print randomfield.__version__"
   ]
  },
  {
   "cell_type": "markdown",
   "metadata": {},
   "source": [
    "Initialize a generator using the default Planck13 cosmology. We use a thin slab (nx = 8) here to speed up this example."
   ]
  },
  {
   "cell_type": "code",
   "execution_count": null,
   "metadata": {
    "collapsed": false
   },
   "outputs": [],
   "source": [
    "%time generator = randomfield.Generator(8, 256, 4096, grid_spacing_Mpc_h=1.0, verbose=True)"
   ]
  },
  {
   "cell_type": "markdown",
   "metadata": {},
   "source": [
    "### Generate a random delta field realization"
   ]
  },
  {
   "cell_type": "markdown",
   "metadata": {},
   "source": [
    "Generate a delta field realization that samples a smoothed linear matter power spectrum. The plot shows a 1 Mpc/h thick slice through the generated field, divided into four sections.  The horizontal axis shows redshift values and the expanding wedge shows a 3.5 degree field of view."
   ]
  },
  {
   "cell_type": "code",
   "execution_count": null,
   "metadata": {
    "collapsed": false
   },
   "outputs": [],
   "source": [
    "delta = generator.generate_delta_field(smoothing_length_Mpc_h=2.0, seed=123, show_plot=True)"
   ]
  },
  {
   "cell_type": "markdown",
   "metadata": {},
   "source": [
    "Plot the input and smoothed power spectra:"
   ]
  },
  {
   "cell_type": "code",
   "execution_count": null,
   "metadata": {
    "collapsed": false
   },
   "outputs": [],
   "source": [
    "def plot_power(g):\n",
    "    k, Pk = g.power['k'], g.power['Pk']\n",
    "    ks, Pks = g.smoothed_power['k'], g.smoothed_power['Pk']\n",
    "    plt.fill_between(k, Pk, facecolor='red', alpha=0.25)\n",
    "    plt.fill_between(k, Pks, facecolor='red', alpha=0.5)\n",
    "    plt.xscale('log')\n",
    "    plt.yscale('log')\n",
    "    plt.xlim(k[0], k[-1])\n",
    "    plt.ylim(np.min(Pk),None)\n",
    "    plt.grid()\n",
    "    plt.xlabel('Wavenumber k (h/Mpc)')\n",
    "    plt.ylabel('Linear matter power P(k) (Mpc/h)$^{3}$')\n",
    "    plt.tight_layout()\n",
    "    plt.show()\n",
    "plot_power(generator)"
   ]
  },
  {
   "cell_type": "markdown",
   "metadata": {},
   "source": [
    "### Convert the delta field to a light-cone physical density"
   ]
  },
  {
   "cell_type": "markdown",
   "metadata": {},
   "source": [
    "Convert the delta field to physical densities along our light cone. The normal delta field distribution is transformed to a log-normal density field distribution with the same mean and variance, so that all densities are positive."
   ]
  },
  {
   "cell_type": "code",
   "execution_count": null,
   "metadata": {
    "collapsed": false
   },
   "outputs": [],
   "source": [
    "density = generator.convert_delta_to_density(show_plot=True)"
   ]
  },
  {
   "cell_type": "markdown",
   "metadata": {},
   "source": [
    "Show the redshift evolution of physical density fluctuations along our light cone:"
   ]
  },
  {
   "cell_type": "code",
   "execution_count": null,
   "metadata": {
    "collapsed": false
   },
   "outputs": [],
   "source": [
    "def plot_density_evolution(g):\n",
    "    z = g.redshifts\n",
    "    rho_0 = g.mean_matter_density\n",
    "    rho_sigma = rho_0 * g.delta_field_rms * g.growth_function\n",
    "    plt.plot(z, rho_0, 'r-')\n",
    "    plt.fill_between(z, rho_0 - rho_sigma, rho_0 + rho_sigma, color='r', alpha=0.25)\n",
    "    #sigmas = np.percentile(density, (15.865, 84.134), axis=(0,1))\n",
    "    #plt.plot(z, sigmas[0], 'k--', label='-1$\\sigma$')\n",
    "    #plt.plot(z, sigmas[1], 'k--', label='+1$\\sigma$')\n",
    "    plt.xlim(z[0], z[-1])\n",
    "    y_min = np.min(rho_0 + rho_sigma)\n",
    "    y_max = np.max(rho_0 + rho_sigma)\n",
    "    y_pad = 0.1 * (y_max - y_min)\n",
    "    plt.ylim(y_min - y_pad, y_max + y_pad)\n",
    "    plt.xlabel('Redshift z')\n",
    "    plt.ylabel('Matter density (g/cm$^3$)')\n",
    "    plt.grid()\n",
    "    plt.tight_layout()\n",
    "    plt.show()\n",
    "plot_density_evolution(generator)"
   ]
  },
  {
   "cell_type": "markdown",
   "metadata": {},
   "source": [
    "### Calculate the Newtonian potential"
   ]
  },
  {
   "cell_type": "markdown",
   "metadata": {},
   "source": [
    "Calculate the Newtonian potential $\\Phi(r)$ of the linear density field at z=0:"
   ]
  },
  {
   "cell_type": "code",
   "execution_count": null,
   "metadata": {
    "collapsed": false
   },
   "outputs": [],
   "source": [
    "phi = generator.calculate_newtonian_potential(show_plot=True)"
   ]
  },
  {
   "cell_type": "code",
   "execution_count": null,
   "metadata": {
    "collapsed": true
   },
   "outputs": [],
   "source": []
  }
 ],
 "metadata": {
  "kernelspec": {
   "display_name": "Python 2",
   "language": "python",
   "name": "python2"
  },
  "language_info": {
   "codemirror_mode": {
    "name": "ipython",
    "version": 2
   },
   "file_extension": ".py",
   "mimetype": "text/x-python",
   "name": "python",
   "nbconvert_exporter": "python",
   "pygments_lexer": "ipython2",
   "version": "2.7.10"
  }
 },
 "nbformat": 4,
 "nbformat_minor": 0
}
